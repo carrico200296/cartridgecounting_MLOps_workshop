{
 "cells": [
  {
   "cell_type": "code",
   "execution_count": 20,
   "metadata": {},
   "outputs": [],
   "source": [
    "import sys\n",
    "sys.path.append('../')\n",
    "sys.path.append(\"../src/\")\n",
    "\n",
    "import time\n",
    "from matplotlib import pyplot as plt\n",
    "import numpy as np\n",
    "import torch\n",
    "from torch.utils.data import Dataset, DataLoader\n",
    "from pytorch.model import UNet\n",
    "from pytorch.looper import Looper\n",
    "import pytorch.utils as torch_utils\n",
    "from pytorch.utils import SegmentationDataset, AugmentorSegmentationDataset\n",
    "from torchvision import transforms\n",
    "\n",
    "def display_img(img):\n",
    "    fig, ax = plt.subplots(figsize=(10, 20))\n",
    "    plt.imshow(img, cmap=\"gray\")"
   ]
  },
  {
   "cell_type": "code",
   "execution_count": 21,
   "metadata": {},
   "outputs": [],
   "source": [
    "# --- PYTESTS --- # to check UNet network output\n",
    "from pytorch.model import test_UNet_color, test_UNet_grayscale\n",
    "\n",
    "test_UNet_color()\n",
    "test_UNet_grayscale()"
   ]
  },
  {
   "cell_type": "code",
   "execution_count": 8,
   "metadata": {},
   "outputs": [
    {
     "name": "stdout",
     "output_type": "stream",
     "text": [
      "_black_green_greenblurry\n"
     ]
    }
   ],
   "source": [
    "dataset_caps_color = [\"black\", \"green\", \"greenblurry\"]\n",
    "data_aug = False\n",
    "\n",
    "if data_aug == True:\n",
    "    transform = transforms.Compose([\n",
    "            transforms.ToPILImage(),\n",
    "            transforms.ColorJitter( brightness=0.5*np.random.rand(),\n",
    "                                    contrast=0.5*np.random.rand(),\n",
    "                                    #    saturation=0.1*np.random.rand(),\n",
    "                                    #    hue=0.1*np.random.rand()\n",
    "                                    ),\n",
    "            transforms.PILToTensor()\n",
    "        ])\n",
    "else:\n",
    "    transform = None\n",
    "\n",
    "network_architecture = \"UNet\"\n",
    "dataset_name = \"\"\n",
    "for subdataset in dataset_caps_color:\n",
    "    dataset_name = dataset_name + \"_\" + subdataset\n",
    "if data_aug == True:\n",
    "    dataset_name = dataset_name + \"_augmented\"\n",
    "\n",
    "ds = SegmentationDataset(\"../dataset/training/\", transform=transform)\n",
    "print(dataset_name)"
   ]
  },
  {
   "cell_type": "code",
   "execution_count": 9,
   "metadata": {},
   "outputs": [
    {
     "name": "stdout",
     "output_type": "stream",
     "text": [
      "(356, 89)\n"
     ]
    }
   ],
   "source": [
    "lengths = ((int(len(ds)*0.8), int(len(ds)*0.2)) if len(ds)%2 != 0 else (int(len(ds)*0.8) + 1, int(len(ds)*0.2)))\n",
    "print(lengths)\n",
    "train, val = torch.utils.data.random_split(ds, lengths)"
   ]
  },
  {
   "cell_type": "code",
   "execution_count": 10,
   "metadata": {},
   "outputs": [],
   "source": [
    "train_loader = DataLoader(train, batch_size=8,shuffle=True, num_workers=0)\n",
    "valid_loader = DataLoader(val, batch_size=8,shuffle=True, num_workers=0)"
   ]
  },
  {
   "cell_type": "code",
   "execution_count": 11,
   "metadata": {},
   "outputs": [
    {
     "name": "stdout",
     "output_type": "stream",
     "text": [
      "cpu\n"
     ]
    }
   ],
   "source": [
    "device = torch.device('cuda:0' if torch.cuda.is_available() else 'cpu')\n",
    "print(device)\n",
    "model = UNet(input_filters=1, filters=64, N=2).to(device)\n",
    "model = torch.nn.DataParallel(model)"
   ]
  },
  {
   "cell_type": "code",
   "execution_count": 12,
   "metadata": {},
   "outputs": [],
   "source": [
    "# initialize loss, optimized and learning rate scheduler\n",
    "loss = torch.nn.BCELoss() # Measures the  Binary Cross Entropy between the target and the input probabilities\n",
    "optimizer = torch.optim.Adam(model.parameters())\n",
    "lr_scheduler = torch.optim.lr_scheduler.StepLR(optimizer, step_size=20, gamma=0.1)\n",
    "\n",
    "# create training and validation Loopers to handle a single epoch\n",
    "train_looper = Looper(model, device, loss, optimizer,\n",
    "                      train_loader, len(train))\n",
    "valid_looper = Looper(model, device, loss, optimizer,\n",
    "                      valid_loader, len(val), validation=True )"
   ]
  },
  {
   "cell_type": "code",
   "execution_count": null,
   "metadata": {},
   "outputs": [],
   "source": [
    "# current best results (lowest mean absolute error on validation set)\n",
    "current_best = np.infty\n",
    "num_epochs = 10\n",
    "for epoch in range(num_epochs):\n",
    "        print(f\"Epoch {epoch + 1}\\n\")\n",
    "\n",
    "        # run training epoch and update learning rate\n",
    "        train_looper.run()\n",
    "        lr_scheduler.step()\n",
    "\n",
    "        # run validation epoch\n",
    "        with torch.no_grad():\n",
    "            result = valid_looper.run()\n",
    "            \n",
    "        # update checkpoint if new best is reached\n",
    "        if result < current_best:\n",
    "            current_best = result\n",
    "            model_name = f'../trained_models/new_trained_models/model{dataset_name}_{network_architecture}_best.pth'\n",
    "            torch.save(model.state_dict(), model_name)\n",
    "            print(f\"\\nNew best result: {result}\")\n",
    "        print(\"\\n\", \"-\"*80, \"\\n\", sep='')\n",
    "\n",
    "print(f\"[Training done] Best result: {current_best}\")\n",
    "torch.save(model.state_dict(), f'../trained_models/new_trained_models/model{dataset_name}_{network_architecture}_{time.time()}.pth')"
   ]
  },
  {
   "cell_type": "code",
   "execution_count": 14,
   "metadata": {},
   "outputs": [
    {
     "data": {
      "text/plain": [
       "<matplotlib.legend.Legend at 0x20c57f47820>"
      ]
     },
     "execution_count": 14,
     "metadata": {},
     "output_type": "execute_result"
    },
    {
     "data": {
      "image/png": "[encoded data removed]",
      "text/plain": [
       "<Figure size 432x288 with 1 Axes>"
      ]
     },
     "metadata": {
      "needs_background": "light"
     },
     "output_type": "display_data"
    }
   ],
   "source": [
    "plt.plot(valid_looper.running_loss, label='Validation Loss')\n",
    "plt.plot(train_looper.running_loss, label='Training Loss')\n",
    "plt.legend()"
   ]
  },
  {
   "cell_type": "code",
   "execution_count": null,
   "metadata": {},
   "outputs": [],
   "source": []
  }
 ],
 "metadata": {
  "kernelspec": {
   "display_name": "Python 3",
   "language": "python",
   "name": "python3"
  },
  "language_info": {
   "codemirror_mode": {
    "name": "ipython",
    "version": 3
   },
   "file_extension": ".py",
   "mimetype": "text/x-python",
   "name": "python",
   "nbconvert_exporter": "python",
   "pygments_lexer": "ipython3",
   "version": "3.9.6"
  }
 },
 "nbformat": 4,
 "nbformat_minor": 4
}
